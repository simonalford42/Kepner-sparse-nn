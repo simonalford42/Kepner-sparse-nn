{
 "cells": [
  {
   "cell_type": "code",
   "execution_count": 5,
   "metadata": {
    "collapsed": true
   },
   "outputs": [],
   "source": [
    "%matplotlib inline\n",
    "import caffe\n",
    "import numpy as np\n",
    "import matplotlib.pyplot as plt\n",
    "caffe_root = '/home/gridsan/salford/caffe/'\n",
    "model_def = caffe_root + 'mnist2/lenet300-100.prototxt'\n",
    "model_weights = caffe_root + 'mnist2/models/lenet300-100_iter_10000_v1.caffemodel'\n",
    "net = caffe.Net(model_def, model_weights, caffe.TEST)"
   ]
  },
  {
   "cell_type": "code",
   "execution_count": 2,
   "metadata": {
    "collapsed": true
   },
   "outputs": [],
   "source": [
    "caffe_root = '/home/gridsan/salford/caffe/'\n",
    "#model_def = caffe_root + 'mnist2/lenet5.prototxt'\n",
    "#model_weights = caffe_root + 'mnist2/models/lenet5_iter_10000_v1.caffemodel'\n",
    "model_def = caffe_root + 'mnist2/lenet300-100.prototxt'\n",
    "model_weights = caffe_root + 'mnist2/models/lenet300-100_iter_10000_v1.caffemodel'"
   ]
  },
  {
   "cell_type": "code",
   "execution_count": null,
   "metadata": {
    "collapsed": true
   },
   "outputs": [],
   "source": [
    "net = caffe.Net(model_def, model_weights, caffe.TEST)"
   ]
  },
  {
   "cell_type": "code",
   "execution_count": null,
   "metadata": {
    "collapsed": true
   },
   "outputs": [],
   "source": [
    "net.forward()"
   ]
  },
  {
   "cell_type": "code",
   "execution_count": null,
   "metadata": {
    "collapsed": true
   },
   "outputs": [],
   "source": [
    "print(net.blobs['conv1'].data.shape)\n",
    "print(net.params.keys())\n",
    "print(net.params['conv1'][0].data.shape)\n",
    "print(net.params['conv1'][1].data.shape)"
   ]
  },
  {
   "cell_type": "code",
   "execution_count": null,
   "metadata": {
    "collapsed": true
   },
   "outputs": [],
   "source": [
    "def sparsify(net, threshold, layers = None):\n",
    "    if layers is None:\n",
    "        layers = net.params.keys()\n",
    "    total_size = 0\n",
    "    nonzero_els = 0\n",
    "    for layer in net.params.keys(): # have to do all to measure sparsity correctly\n",
    "        for data_blob in net.params[layer]: # there are two: the FC layer and the bias vector\n",
    "            data_array = data_blob.data\n",
    "            if layer in layers:\n",
    "                data_array[np.abs(data_array) < threshold] = 0\n",
    "            total_size += data_array.size\n",
    "            nonzero_els +=  np.count_nonzero(data_array)\n",
    "    return float(total_size - nonzero_els) / total_size"
   ]
  },
  {
   "cell_type": "code",
   "execution_count": null,
   "metadata": {
    "collapsed": true
   },
   "outputs": [],
   "source": [
    "%matplotlib inline\n",
    "import caffe\n",
    "import numpy as np\n",
    "import matplotlib.pyplot as plt\n",
    "caffe_root = '/home/gridsan/salford/caffe/'\n",
    "model_def = caffe_root + 'mnist2/lenet300-100.prototxt'\n",
    "model_weights = caffe_root + 'mnist2/models/lenet300-100_iter_10000_v1.caffemodel'\n",
    "net = caffe.Net(model_def, model_weights, caffe.TEST)\n",
    "\n",
    "def sparsify(net, threshold, layers = None):\n",
    "    if layers is None:\n",
    "        layers = net.params.keys()\n",
    "    total_size = 0\n",
    "    nonzero_els = 0\n",
    "    for layer in net.params.keys(): # have to do all to measure sparsity correctly\n",
    "        for data_blob in net.params[layer]: # there are two: the FC layer and the bias vector\n",
    "            data_array = data_blob.data\n",
    "            if layer in layers:\n",
    "                data_array[np.abs(data_array) < threshold] = 0\n",
    "            total_size += data_array.size\n",
    "            nonzero_els +=  np.count_nonzero(data_array)\n",
    "    return float(total_size - nonzero_els) / total_size\n",
    "\n",
    "def sparsity_test(net, thresholds):\n",
    "    accs = []\n",
    "    sparsities = []\n",
    "    for threshold in thresholds:\n",
    "        sparsity = sparsify(net, threshold)\n",
    "        result_dict = net.forward()\n",
    "        accuracy = np.asscalar(result_dict['accuracy'])\n",
    "        accs.append(accuracy)\n",
    "        sparsities.append(sparsity)\n",
    "    return accs, sparsities"
   ]
  },
  {
   "cell_type": "code",
   "execution_count": null,
   "metadata": {
    "collapsed": true
   },
   "outputs": [],
   "source": [
    "thresholds = np.linspace(0, 0.025, 21)\n",
    "print(thresholds)"
   ]
  },
  {
   "cell_type": "code",
   "execution_count": null,
   "metadata": {
    "collapsed": true
   },
   "outputs": [],
   "source": [
    "accs, sparsities = sparsity_test(net, thresholds)\n",
    "errors = [1 - a for a in accs]"
   ]
  },
  {
   "cell_type": "code",
   "execution_count": null,
   "metadata": {
    "collapsed": true
   },
   "outputs": [],
   "source": [
    "print(accs)\n",
    "print(sparsities)"
   ]
  },
  {
   "cell_type": "code",
   "execution_count": null,
   "metadata": {
    "collapsed": true,
    "scrolled": true
   },
   "outputs": [],
   "source": [
    "fig = plt.figure()\n",
    "plt.plot(thresholds, errors, label = 'accuracy')\n",
    "plt.plot(thresholds, sparsities, label='sparsity')\n",
    "plt.title('Lenet-5 on MNIST accuracy vs pruning threshold')\n",
    "plt.xlabel('Pruning threshold')\n",
    "plt.ylabel('Test set accuracy/Overall model sparsity')\n",
    "plt.legend()"
   ]
  },
  {
   "cell_type": "code",
   "execution_count": 11,
   "metadata": {
    "collapsed": true
   },
   "outputs": [],
   "source": [
    "fig.savefig('Lenet5_plot2.png')"
   ]
  },
  {
   "cell_type": "code",
   "execution_count": 10,
   "metadata": {},
   "outputs": [
    {
     "ename": "NameError",
     "evalue": "name 'net' is not defined",
     "output_type": "error",
     "traceback": [
      "\u001b[0;31m\u001b[0m",
      "\u001b[0;31mNameError\u001b[0mTraceback (most recent call last)",
      "\u001b[0;32m<ipython-input-10-0203c8c75140>\u001b[0m in \u001b[0;36m<module>\u001b[0;34m()\u001b[0m\n\u001b[1;32m      1\u001b[0m \u001b[0mplt\u001b[0m\u001b[0;34m.\u001b[0m\u001b[0mfigure\u001b[0m\u001b[0;34m(\u001b[0m\u001b[0;34m)\u001b[0m\u001b[0;34m\u001b[0m\u001b[0m\n\u001b[0;32m----> 2\u001b[0;31m \u001b[0mdata_blob\u001b[0m \u001b[0;34m=\u001b[0m \u001b[0mnet\u001b[0m\u001b[0;34m.\u001b[0m\u001b[0mparams\u001b[0m\u001b[0;34m[\u001b[0m\u001b[0;34m'ip1'\u001b[0m\u001b[0;34m]\u001b[0m\u001b[0;34m\u001b[0m\u001b[0m\n\u001b[0m\u001b[1;32m      3\u001b[0m \u001b[0;34m\u001b[0m\u001b[0m\n\u001b[1;32m      4\u001b[0m \u001b[0mf\u001b[0m\u001b[0;34m,\u001b[0m \u001b[0;34m(\u001b[0m\u001b[0max\u001b[0m\u001b[0;34m,\u001b[0m \u001b[0max2\u001b[0m\u001b[0;34m)\u001b[0m \u001b[0;34m=\u001b[0m \u001b[0mplt\u001b[0m\u001b[0;34m.\u001b[0m\u001b[0msubplots\u001b[0m\u001b[0;34m(\u001b[0m\u001b[0;36m2\u001b[0m\u001b[0;34m,\u001b[0m \u001b[0;36m1\u001b[0m\u001b[0;34m,\u001b[0m \u001b[0msharex\u001b[0m\u001b[0;34m=\u001b[0m\u001b[0mTrue\u001b[0m\u001b[0;34m)\u001b[0m\u001b[0;34m\u001b[0m\u001b[0m\n\u001b[1;32m      5\u001b[0m \u001b[0;34m\u001b[0m\u001b[0m\n",
      "\u001b[0;31mNameError\u001b[0m: name 'net' is not defined"
     ]
    },
    {
     "data": {
      "text/plain": [
       "<matplotlib.figure.Figure at 0x7f041b3b2050>"
      ]
     },
     "metadata": {},
     "output_type": "display_data"
    }
   ],
   "source": [
    "plt.figure()\n",
    "fig = plt.gcf()\n",
    "\n",
    "data_blob = net.params['ip1'][0]\n",
    "\n",
    "ylim  = [0, 1000]\n",
    "ylim2 = [1000, 3000]\n",
    "ylimratio = (ylim[1]-ylim[0])/(ylim2[1]-ylim2[0]+ylim[1]-ylim[0])\n",
    "ylim2ratio = (ylim2[1]-ylim2[0])/(ylim2[1]-ylim2[0]+ylim[1]-ylim[0])\n",
    "gs = gridspec.GridSpec(2, 1, height_ratios=[ylimratio, ylim2ratio])\n",
    "fig = plt.figure()\n",
    "ax = fig.add_subplot(gs[0])\n",
    "ax2 = fig.add_subplot(gs[1])\n",
    "ax.hist(np.ravel(data_blob.data), bins=50)\n",
    "ax2.hist(np.ravel(data_blob.data), bins=50)\n",
    "ax.set_ylim(ylim)\n",
    "ax2.set_ylim(ylim2)\n",
    "plt.subplots_adjust(hspace=0.03)\n",
    "\n",
    "ax.spines['bottom'].set_visible(False)\n",
    "ax2.spines['top'].set_visible(False)\n",
    "ax.xaxis.tick_top()\n",
    "ax.tick_params(labeltop='off')\n",
    "ax2.xaxis.tick_bottom()\n",
    " \n",
    "ax2.set_xlabel('xlabel')\n",
    "ax2.set_ylabel('ylabel')\n",
    "ax2.yaxis.set_label_coords(0.05, 0.5, transform=fig.transFigure)\n",
    "\n",
    "kwargs = dict(color='k', clip_on=False)\n",
    "xlim = ax.get_xlim()\n",
    "dx = .02*(xlim[1]-xlim[0])\n",
    "dy = .01*(ylim[1]-ylim[0])/ylimratio\n",
    "ax.plot((xlim[0]-dx,xlim[0]+dx), (ylim[0]-dy,ylim[0]+dy), **kwargs)\n",
    "ax.plot((xlim[1]-dx,xlim[1]+dx), (ylim[0]-dy,ylim[0]+dy), **kwargs)\n",
    "dy = .01*(ylim2[1]-ylim2[0])/ylim2ratio\n",
    "ax2.plot((xlim[0]-dx,xlim[0]+dx), (ylim2[1]-dy,ylim2[1]+dy), **kwargs)\n",
    "ax2.plot((xlim[1]-dx,xlim[1]+dx), (ylim2[1]-dy,ylim2[1]+dy), **kwargs)\n",
    "ax.set_xlim(xlim)\n",
    "ax2.set_xlim(xlim)\n",
    "\n",
    "plt.savefig('/home/gridsan/salford/lenet5_funn.png')"
   ]
  },
  {
   "cell_type": "code",
   "execution_count": 9,
   "metadata": {},
   "outputs": [
    {
     "ename": "NameError",
     "evalue": "name 'net' is not defined",
     "output_type": "error",
     "traceback": [
      "\u001b[0;31m\u001b[0m",
      "\u001b[0;31mNameError\u001b[0mTraceback (most recent call last)",
      "\u001b[0;32m<ipython-input-9-68051b298fdf>\u001b[0m in \u001b[0;36m<module>\u001b[0;34m()\u001b[0m\n\u001b[1;32m      1\u001b[0m \u001b[0mplt\u001b[0m\u001b[0;34m.\u001b[0m\u001b[0mfigure\u001b[0m\u001b[0;34m(\u001b[0m\u001b[0;34m)\u001b[0m\u001b[0;34m\u001b[0m\u001b[0m\n\u001b[0;32m----> 2\u001b[0;31m \u001b[0mdata_blob\u001b[0m \u001b[0;34m=\u001b[0m \u001b[0mnet\u001b[0m\u001b[0;34m.\u001b[0m\u001b[0mparams\u001b[0m\u001b[0;34m[\u001b[0m\u001b[0;34m'ip1'\u001b[0m\u001b[0;34m]\u001b[0m\u001b[0;34m\u001b[0m\u001b[0m\n\u001b[0m\u001b[1;32m      3\u001b[0m \u001b[0mplt\u001b[0m\u001b[0;34m.\u001b[0m\u001b[0mhist\u001b[0m\u001b[0;34m(\u001b[0m\u001b[0mnp\u001b[0m\u001b[0;34m.\u001b[0m\u001b[0mravel\u001b[0m\u001b[0;34m(\u001b[0m\u001b[0mdata_blob\u001b[0m\u001b[0;34m.\u001b[0m\u001b[0mdata\u001b[0m\u001b[0;34m)\u001b[0m\u001b[0;34m,\u001b[0m \u001b[0mbins\u001b[0m\u001b[0;34m=\u001b[0m\u001b[0;36m50\u001b[0m\u001b[0;34m)\u001b[0m\u001b[0;34m\u001b[0m\u001b[0m\n\u001b[1;32m      4\u001b[0m \u001b[0mplt\u001b[0m\u001b[0;34m.\u001b[0m\u001b[0mxlabel\u001b[0m\u001b[0;34m(\u001b[0m\u001b[0;34m'weight bin'\u001b[0m\u001b[0;34m)\u001b[0m\u001b[0;34m\u001b[0m\u001b[0m\n\u001b[1;32m      5\u001b[0m \u001b[0mplt\u001b[0m\u001b[0;34m.\u001b[0m\u001b[0mylabel\u001b[0m\u001b[0;34m(\u001b[0m\u001b[0;34m'number of connections'\u001b[0m\u001b[0;34m)\u001b[0m\u001b[0;34m\u001b[0m\u001b[0m\n",
      "\u001b[0;31mNameError\u001b[0m: name 'net' is not defined"
     ]
    },
    {
     "data": {
      "text/plain": [
       "<matplotlib.figure.Figure at 0x7f041b4c1110>"
      ]
     },
     "metadata": {},
     "output_type": "display_data"
    }
   ],
   "source": [
    "plt.figure()\n",
    "data_blob = net.params['ip1'][0]\n",
    "plt.hist(np.ravel(data_blob.data), bins=50)\n",
    "plt.xlabel('weight bin')\n",
    "plt.ylabel('number of connections')\n",
    "plt.title('ip fun')\n",
    "plt.gcf().savefig('/home/gridsan/salford/Lenet5_fun_ip.png') "
   ]
  },
  {
   "cell_type": "code",
   "execution_count": 13,
   "metadata": {
    "collapsed": true
   },
   "outputs": [],
   "source": [
    "# note: keep in mind these graphs may be representative of pruned network\n",
    "def weight_hists(net):\n",
    "    layers = net.params.keys()\n",
    "    print(layers)\n",
    "    for layer in layers:\n",
    "        bias = 0\n",
    "        for data_blob in net.params[layer]:\n",
    "            print(layer)\n",
    "            plt.hist(np.ravel(data_blob.data), bins=50)\n",
    "            plt.xlabel('weight bin')\n",
    "            plt.ylabel('number of connections')\n",
    "            if bias == 0:\n",
    "                plt.title(layer)\n",
    "                plt.gcf().savefig('/home/gridsan/salford/Lenet5_unpruned_' + str(layer) + '.png')\n",
    "            else: \n",
    "                plt.title(layer + ' bias')\n",
    "                plt.gcf().savefig('/home/gridsan/salford/Lenet5_unpruned_' + str(layer) + 'bias.png')\n",
    "            plt.figure()\n",
    "            bias+=1"
   ]
  },
  {
   "cell_type": "code",
   "execution_count": 14,
   "metadata": {},
   "outputs": [
    {
     "data": {
      "image/png": "[encoded data removed]",
      "text/plain": [
       "<matplotlib.figure.Figure at 0x7f530065add0>"
      ]
     },
     "metadata": {},
     "output_type": "display_data"
    },
    {
     "data": {
      "image/png": "[encoded data removed]",
      "text/plain": [
       "<matplotlib.figure.Figure at 0x7f530057f450>"
      ]
     },
     "metadata": {},
     "output_type": "display_data"
    },
    {
     "data": {
      "image/png": "[encoded data removed]",
      "text/plain": [
       "<matplotlib.figure.Figure at 0x7f5300409fd0>"
      ]
     },
     "metadata": {},
     "output_type": "display_data"
    },
    {
     "data": {
      "image/png": "[encoded data removed]",
      "text/plain": [
       "<matplotlib.figure.Figure at 0x7f5300296e10>"
      ]
     },
     "metadata": {},
     "output_type": "display_data"
    },
    {
     "data": {
      "image/png": "[encoded data removed]",
      "text/plain": [
       "<matplotlib.figure.Figure at 0x7f53000c0a90>"
      ]
     },
     "metadata": {},
     "output_type": "display_data"
    },
    {
     "data": {
      "image/png": "[encoded data removed]",
      "text/plain": [
       "<matplotlib.figure.Figure at 0x7f528cc555d0>"
      ]
     },
     "metadata": {},
     "output_type": "display_data"
    },
    {
     "data": {
      "image/png": "[encoded data removed]",
      "text/plain": [
       "<matplotlib.figure.Figure at 0x7f528cb1f150>"
      ]
     },
     "metadata": {},
     "output_type": "display_data"
    },
    {
     "data": {
      "image/png": "[encoded data removed]",
      "text/plain": [
       "<matplotlib.figure.Figure at 0x7f528c901950>"
      ]
     },
     "metadata": {},
     "output_type": "display_data"
    },
    {
     "data": {
      "text/plain": [
       "<matplotlib.figure.Figure at 0x7f528c7a6250>"
      ]
     },
     "metadata": {},
     "output_type": "display_data"
    }
   ],
   "source": [
    "weight_hists(net)"
   ]
  },
  {
   "cell_type": "code",
   "execution_count": null,
   "metadata": {
    "collapsed": true
   },
   "outputs": [],
   "source": []
  }
 ],
 "metadata": {
  "kernelspec": {
   "display_name": "Python [conda root]",
   "language": "python",
   "name": "conda-root-py"
  },
  "language_info": {
   "codemirror_mode": {
    "name": "ipython",
    "version": 2
   },
   "file_extension": ".py",
   "mimetype": "text/x-python",
   "name": "python",
   "nbconvert_exporter": "python",
   "pygments_lexer": "ipython2",
   "version": "2.7.13"
  },
  "latex_envs": {
   "LaTeX_envs_menu_present": true,
   "autocomplete": true,
   "bibliofile": "biblio.bib",
   "cite_by": "apalike",
   "current_citInitial": 1,
   "eqLabelWithNumbers": true,
   "eqNumInitial": 1,
   "hotkeys": {
    "equation": "Ctrl-E",
    "itemize": "Ctrl-I"
   },
   "labels_anchors": false,
   "latex_user_defs": false,
   "report_style_numbering": false,
   "user_envs_cfg": false
  },
  "toc": {
   "nav_menu": {},
   "number_sections": true,
   "sideBar": true,
   "skip_h1_title": false,
   "toc_cell": false,
   "toc_position": {},
   "toc_section_display": "block",
   "toc_window_display": false
  },
  "varInspector": {
   "cols": {
    "lenName": 16,
    "lenType": 16,
    "lenVar": 40
   },
   "kernels_config": {
    "python": {
     "delete_cmd_postfix": "",
     "delete_cmd_prefix": "del ",
     "library": "var_list.py",
     "varRefreshCmd": "print(var_dic_list())"
    },
    "r": {
     "delete_cmd_postfix": ") ",
     "delete_cmd_prefix": "rm(",
     "library": "var_list.r",
     "varRefreshCmd": "cat(var_dic_list()) "
    }
   },
   "types_to_exclude": [
    "module",
    "function",
    "builtin_function_or_method",
    "instance",
    "_Feature"
   ],
   "window_display": false
  }
 },
 "nbformat": 4,
 "nbformat_minor": 2
}
